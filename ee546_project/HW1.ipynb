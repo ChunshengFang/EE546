{
 "cells": [
  {
   "cell_type": "code",
   "execution_count": 1,
   "id": "1f4041fd",
   "metadata": {},
   "outputs": [],
   "source": [
    "# seperately compute w and b\n",
    "\n",
    "import numpy as np\n",
    "import pandas as pd\n",
    "from matplotlib import pyplot as plt\n",
    "\n",
    "# from scipy.misc import derivative\n",
    "\n",
    "df = pd.read_csv(\"../data/wdbc.data\", header=None,sep = \",\")\n",
    "\n",
    "X_id = df[[0]]\n",
    "y = np.array(df[[1]])\n",
    "X_origin = np.array(df.drop([0, 1], axis=1))\n",
    "\n",
    "X_mean = np.mean(X_origin, axis=0)\n",
    "X_X_mean = X_origin - X_mean.reshape(1, 30)\n",
    "\n",
    "X_norm = np.linalg.norm(X_X_mean, axis=1)\n",
    "\n",
    "X = X_X_mean / X_norm.reshape(569, 1)\n",
    "\n",
    "# X = np.hstack((np.ones((569,1)),X))\n",
    "Xy = np.hstack((y, X))"
   ]
  },
  {
   "cell_type": "markdown",
   "id": "00604237",
   "metadata": {},
   "source": [
    "## HB"
   ]
  },
  {
   "cell_type": "code",
   "execution_count": 3,
   "id": "2888a0b5",
   "metadata": {},
   "outputs": [
    {
     "name": "stdout",
     "output_type": "stream",
     "text": [
      "Average w is :  [ 3.43578587e+00  3.35153032e+01  4.43232362e+01 -8.99247343e+00\n",
      "  2.00974737e-01  6.79054743e-01  9.93274145e-01  4.35311839e-01\n",
      "  3.13090192e-01  6.45188790e-02  3.29181851e-01  1.82732320e+00\n",
      "  3.75604510e+00  3.78069229e+00  2.42818315e-02  1.51777819e-01\n",
      "  2.19198678e-01  6.65805952e-02  4.64045675e-02  1.26135449e-02\n",
      "  6.47174926e+00  5.93103294e+01  8.25646019e+01  2.45722714e+01\n",
      "  4.03502474e-01  2.23256896e+00  2.92922125e+00  9.13244291e-01\n",
      "  7.99499393e-01  2.57770234e-01] \n",
      "Average b is :  -9.432667243982769 \n",
      "Average error is :  6.64771 \n",
      "Average n_iters is  10000.0\n"
     ]
    },
    {
     "data": {
      "image/png": "[encoded data removed]",
      "text/plain": [
       "<Figure size 432x288 with 1 Axes>"
      ]
     },
     "metadata": {
      "needs_background": "light"
     },
     "output_type": "display_data"
    }
   ],
   "source": [
    "lambd = 0.01\n",
    "gamma = 0.3  # step size multiplier 0.000001\n",
    "eta = 0.1\n",
    "W1 = np.zeros((30, 100))\n",
    "B1 = np.zeros(100)\n",
    "Err = np.zeros(100)\n",
    "n_iters = np.zeros((100, 1))\n",
    "acc = np.zeros(10000)\n",
    "\n",
    "for i in range(100):\n",
    "    # randomly choose trainning set and test set\n",
    "    np.random.shuffle(Xy)\n",
    "    Xtrain, Xtest, ytrain, ytest = Xy[:500, 1:], Xy[500:, 1:], Xy[:500, 0], Xy[500:, 0]\n",
    "    cur_w = np.ones(30) * 10  # The algorithm starts at w0 = 0.5\n",
    "    cur_b = 10\n",
    "    prev_w = cur_w\n",
    "    prev_b = cur_b\n",
    "    prev_w_step = cur_w - prev_w\n",
    "    prev_b_step = cur_b - prev_b\n",
    "    err = np.zeros(10000)\n",
    "    acc = np.zeros(10000)\n",
    "    iters = 0  # iteration counter\n",
    "    while (iters < 10000):\n",
    "        prev_w = cur_w\n",
    "        prev_b = cur_b\n",
    "        a = 1 - (1 / (1 + np.exp(np.dot(Xtrain, prev_w) + np.ones(500) * prev_b)))\n",
    "        # Derivative of w\n",
    "        der_w = ((-1) * np.sum(Xtrain * ytrain.reshape(500, 1), axis=0) +\n",
    "                 np.sum(Xtrain * (np.exp(np.dot(Xtrain, prev_w) + prev_b) / (\n",
    "                             1 + np.exp(np.dot(Xtrain, prev_w) + prev_b))).reshape(500, 1), axis=0) +\n",
    "                 lambd * prev_w)\n",
    "        # Derivative of b\n",
    "        der_b = ((-1) * np.sum(ytrain) +\n",
    "                 np.sum((np.exp(np.dot(Xtrain, prev_w) + prev_b)) / (1 + np.exp(np.dot(Xtrain, prev_w) + prev_b))))\n",
    "        # Objective Function\n",
    "        f = ((-1) * np.sum(np.dot(Xtrain, prev_w) * ytrain) - np.sum(ytrain * prev_b) +\n",
    "             np.sum(np.log(1 + np.exp(np.dot(Xtrain, prev_w) + prev_b))) + (lambd / 2) * np.dot(prev_w, prev_w))\n",
    "        # Accuracy Condition\n",
    "        b = ((np.linalg.norm(der_w)) ** 2 + der_b ** 2)\n",
    "        c = ((10 ** (-6)) * (1 + np.abs(f)))\n",
    "        acc[iters] = b / (1 + np.abs(f))\n",
    "        if (b <= c):\n",
    "            break\n",
    "        cur_w = cur_w - gamma * der_w + eta * prev_w_step\n",
    "        cur_b = cur_b - gamma * der_b + eta * prev_b_step\n",
    "        prev_w_step = cur_w - prev_w\n",
    "        prev_b_step = cur_b - prev_b\n",
    "\n",
    "        ppred = 1 / (1 + np.exp((-1) * (np.dot(Xtest, cur_w) + cur_b)))\n",
    "        pmal = ppred > 0.5\n",
    "        ypred = pmal * np.ones(69)\n",
    "        err_n = np.count_nonzero(ypred != ytest)\n",
    "        err[iters] = err_n\n",
    "        iters += 1\n",
    "    n_iters[i] = iters\n",
    "    Err[i] = np.mean(err)\n",
    "    W1[:, i] = cur_w\n",
    "    B1[i] = cur_b\n",
    "\n",
    "plt.plot(acc)\n",
    "avg_w = W1.mean(axis=1)\n",
    "avg_b = B1.mean()\n",
    "avg_err = Err.mean()\n",
    "avg_iters = n_iters.mean()\n",
    "print(\"Average w is : \", avg_w, \"\\nAverage b is : \", avg_b, \"\\nAverage error is : \", avg_err, \"\\nAverage n_iters is \",\n",
    "      avg_iters)"
   ]
  },
  {
   "cell_type": "markdown",
   "id": "f1536fc9",
   "metadata": {},
   "source": [
    "## NT"
   ]
  },
  {
   "cell_type": "code",
   "execution_count": 4,
   "id": "690cfcb6",
   "metadata": {},
   "outputs": [
    {
     "name": "stdout",
     "output_type": "stream",
     "text": [
      "Average w is :  [ 3.34366984e+00  3.26416718e+01  4.33416558e+01 -8.11786554e+00\n",
      "  1.95505275e-01  6.65427021e-01  9.72224383e-01  4.27463137e-01\n",
      "  3.07416472e-01  6.28290550e-02  3.16778180e-01  1.81294656e+00\n",
      "  3.76694857e+00  3.56318947e+00  2.38303895e-02  1.47160526e-01\n",
      "  2.10666623e-01  6.54641254e-02  4.36831596e-02  1.22146366e-02\n",
      "  6.25994864e+00  5.78977933e+01  8.05236870e+01  2.77258169e+01\n",
      "  3.95314184e-01  2.18304373e+00  2.85118229e+00  8.93630567e-01\n",
      "  7.73866332e-01  2.52675394e-01] \n",
      "Average b is :  -10.645190456542332 \n",
      "Average error is :  5.7226820000000025 \n",
      "Average n_iters is  10000.0\n"
     ]
    },
    {
     "data": {
      "image/png": "[encoded data removed]",
      "text/plain": [
       "<Figure size 432x288 with 1 Axes>"
      ]
     },
     "metadata": {
      "needs_background": "light"
     },
     "output_type": "display_data"
    }
   ],
   "source": [
    "# Nesterov\n",
    "#  seperately compute w and b\n",
    "\n",
    "lambd = 0.01\n",
    "gamma = 0.3  # step size multiplier 0.000001\n",
    "eta = 0.1\n",
    "W1 = np.zeros((30, 100))\n",
    "B1 = np.zeros(100)\n",
    "Err = np.zeros(100)\n",
    "n_iters = np.zeros((100, 1))\n",
    "acc = np.zeros(10000)\n",
    "\n",
    "for i in range(100):\n",
    "    # randomly choose trainning set and test set\n",
    "    np.random.shuffle(Xy)\n",
    "    Xtrain, Xtest, ytrain, ytest = Xy[:500, 1:], Xy[500:, 1:], Xy[:500, 0], Xy[500:, 0]\n",
    "    cur_w = np.ones(30) * 10  # The algorithm starts at w0 = 0.5\n",
    "    cur_b = 10\n",
    "    prev_w = cur_w\n",
    "    prev_b = cur_b\n",
    "    z_w = cur_w\n",
    "    z_b = cur_b\n",
    "    prev_w_step = cur_w - prev_w\n",
    "    prev_b_step = cur_b - prev_b\n",
    "    err = np.zeros(10000)\n",
    "    acc = np.zeros(10000)\n",
    "    iters = 0  # iteration counter\n",
    "    while (iters < 10000):\n",
    "        prev_w = cur_w\n",
    "        prev_b = cur_b\n",
    "        z_w = prev_w + eta * prev_w_step\n",
    "        z_b = prev_b + eta * prev_b_step\n",
    "        a = 1 - (1 / (1 + np.exp(np.dot(Xtrain, prev_w) + np.ones(500) * prev_b)))\n",
    "        # Derivative of w\n",
    "        der_w = ((-1) * np.sum(Xtrain * ytrain.reshape(500, 1), axis=0) +\n",
    "                 np.sum(Xtrain * (\n",
    "                             np.exp(np.dot(Xtrain, z_w) + prev_b) / (1 + np.exp(np.dot(Xtrain, z_w) + prev_b))).reshape(\n",
    "                     500, 1), axis=0) +\n",
    "                 lambd * z_w)\n",
    "        # Derivative of b\n",
    "        der_b = ((-1) * np.sum(ytrain) +\n",
    "                 np.sum((np.exp(np.dot(Xtrain, prev_w) + z_b)) / (1 + np.exp(np.dot(Xtrain, prev_w) + z_b))))\n",
    "        # Objective Function\n",
    "        f = ((-1) * np.sum(np.dot(Xtrain, prev_w) * ytrain) - np.sum(ytrain * prev_b) +\n",
    "             np.sum(np.log(1 + np.exp(np.dot(Xtrain, prev_w) + prev_b))) + (lambd / 2) * np.dot(prev_w, prev_w))\n",
    "        # Accuracy Condition\n",
    "        b = ((np.linalg.norm(der_w)) ** 2 + der_b ** 2)\n",
    "        c = ((10 ** (-6)) * (1 + np.abs(f)))\n",
    "        acc[iters] = b / (1 + np.abs(f))\n",
    "        if (b <= c):\n",
    "            break\n",
    "        # Gradient with Momentum\n",
    "        cur_w = z_w - gamma * der_w\n",
    "        cur_b = z_b - gamma * der_b\n",
    "        prev_w_step = cur_w - prev_w\n",
    "        prev_b_step = cur_b - prev_b\n",
    "        # Determine Probability and Make Prediction\n",
    "        ppred = 1 / (1 + np.exp((-1) * (np.dot(Xtest, cur_w) + cur_b)))\n",
    "        pmal = ppred > 0.5\n",
    "        ypred = pmal * np.ones(69)\n",
    "        err_n = np.count_nonzero(ypred != ytest)\n",
    "        err[iters] = err_n\n",
    "        iters += 1\n",
    "    n_iters[i] = iters\n",
    "    Err[i] = np.mean(err)\n",
    "    W1[:, i] = cur_w\n",
    "    B1[i] = cur_b\n",
    "\n",
    "plt.plot(acc)\n",
    "avg_w = W1.mean(axis=1)\n",
    "avg_b = B1.mean()\n",
    "avg_err = Err.mean()\n",
    "avg_iters = n_iters.mean()\n",
    "print(\"Average w is : \", avg_w, \"\\nAverage b is : \", avg_b, \"\\nAverage error is : \", avg_err, \"\\nAverage n_iters is \",\n",
    "      avg_iters)"
   ]
  },
  {
   "cell_type": "code",
   "execution_count": 7,
   "id": "5e625175",
   "metadata": {},
   "outputs": [
    {
     "name": "stdout",
     "output_type": "stream",
     "text": [
      "Average w is :  [ 0.6198573   4.26011612  3.1651178  -1.77805472  0.48751953  0.5271272\n",
      "  0.54652654  0.50295087  0.49675196  0.48074539  0.49742009  0.75886021\n",
      "  0.86170102  1.51229865  0.47708122  0.49029459  0.49354268  0.48009863\n",
      "  0.47904179  0.47687322  0.78965818  6.86401465  6.38192658  4.18112144\n",
      "  0.50039637  0.65710307  0.69568574  0.53682074  0.52916297  0.49545764] \n",
      " Average error is :  4.55\n"
     ]
    },
    {
     "data": {
      "text/plain": [
       "[<matplotlib.lines.Line2D at 0x18041d9a4f0>]"
      ]
     },
     "execution_count": 7,
     "metadata": {},
     "output_type": "execute_result"
    },
    {
     "data": {
      "image/png": "[encoded data removed]",
      "text/plain": [
       "<Figure size 432x288 with 1 Axes>"
      ]
     },
     "metadata": {
      "needs_background": "light"
     },
     "output_type": "display_data"
    }
   ],
   "source": [
    "# initialize w0, step size multiplier, step size\n",
    "# 3(c)\n",
    "lambd = 0.01\n",
    "gamma = 0.01 # step size multiplier 0.000001\n",
    "max_iters = 10000 # maximum number of iterations\n",
    "W1 = np.zeros((30,100))\n",
    "B1 = np.zeros(100)\n",
    "Err = np.zeros(100)\n",
    "acc = np.zeros(10000)\n",
    "#\n",
    "for i in range(100):\n",
    "    np.random.shuffle(Xy)\n",
    "    Xtrain, Xtest, ytrain, ytest = Xy[:500,1:], Xy[500:,1:], Xy[:500,0], Xy[500:,0]\n",
    "    cur_w = np.ones(30)*0.5 # The algorithm starts at w0 = 0.5\n",
    "    cur_b = 1\n",
    "    prev_w = cur_w\n",
    "    prev_b = cur_b\n",
    "    previous_step_size = 1  #0.01\n",
    "    iters = 0 #iteration counter\n",
    "    while (iters < 500):\n",
    "        prev_w = cur_w\n",
    "        prev_b = cur_b\n",
    "        a = 1 - 1/(1+np.exp(np.dot(Xtrain,prev_w)+np.ones(500)*prev_b))\n",
    "        der_w = np.sum(Xtrain*(-1)*(ytrain.reshape(500,1)),axis=0) + np.sum(Xtrain*(a.reshape(500,1)),axis=0) + lambd*prev_w\n",
    "        der_b = np.sum(ytrain*(-1)) + np.sum(a)\n",
    "        cur_w -= gamma * der_w\n",
    "        cur_b -= gamma * der_b\n",
    "        previous_step_size = abs(cur_w - prev_w)\n",
    "        #print('iters:',iters,\" prev_w:\",cur_w, \" der:\", der, \"previous_step_size: \",previous_step_size)\n",
    "        iters+=1\n",
    "    W1[:,i] = cur_w\n",
    "    B1[i]= cur_b\n",
    "    fPred = np.dot(Xtest,cur_w)\n",
    "    pPred = 1/(1+np.exp((-1)*fPred))\n",
    "    label = pPred > 0.5\n",
    "    yPred = label * np.ones(69)\n",
    "    Err[i] = np.count_nonzero(yPred != ytest)\n",
    "    \n",
    "avg_w = W1.mean(axis = 1)\n",
    "avg_err = Err.mean()\n",
    "print(\"Average w is : \", avg_w, \"\\n Average error is : \", avg_err)\n",
    "plt.plot(acc)"
   ]
  },
  {
   "cell_type": "code",
   "execution_count": null,
   "id": "6364cabc",
   "metadata": {},
   "outputs": [],
   "source": []
  }
 ],
 "metadata": {
  "kernelspec": {
   "display_name": "Python 3 (ipykernel)",
   "language": "python",
   "name": "python3"
  },
  "language_info": {
   "codemirror_mode": {
    "name": "ipython",
    "version": 3
   },
   "file_extension": ".py",
   "mimetype": "text/x-python",
   "name": "python",
   "nbconvert_exporter": "python",
   "pygments_lexer": "ipython3",
   "version": "3.9.12"
  }
 },
 "nbformat": 4,
 "nbformat_minor": 5
}
